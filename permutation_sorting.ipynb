{
 "cells": [
  {
   "cell_type": "markdown",
   "id": "9276894e",
   "metadata": {},
   "source": [
    "# Permutation Sorting Algorithms\n",
    "This notebook demonstrates various sorting algorithms and a permutation generator."
   ]
  },
  {
   "cell_type": "code",
   "execution_count": null,
   "id": "234ab8c0",
   "metadata": {},
   "outputs": [],
   "source": [
    "import random\n",
    "import time\n",
    "from typing import List, Callable, Generator"
   ]
  },
  {
   "cell_type": "code",
   "execution_count": null,
   "id": "920fa82a",
   "metadata": {},
   "outputs": [],
   "source": [
    "def bubble_sort(arr: List[int]) -> List[int]:\n",
    "    \"\"\"Sort a list using bubble sort.\"\"\"\n",
    "    a = arr.copy()\n",
    "    n = len(a)\n",
    "    for i in range(n):\n",
    "        for j in range(0, n - i - 1):\n",
    "            if a[j] > a[j + 1]:\n",
    "                a[j], a[j + 1] = a[j + 1], a[j]\n",
    "    return a"
   ]
  },
  {
   "cell_type": "code",
   "execution_count": null,
   "id": "402f380c",
   "metadata": {},
   "outputs": [],
   "source": [
    "def insertion_sort(arr: List[int]) -> List[int]:\n",
    "    \"\"\"Sort a list using insertion sort.\"\"\"\n",
    "    a = arr.copy()\n",
    "    for i in range(1, len(a)):\n",
    "        key = a[i]\n",
    "        j = i - 1\n",
    "        while j >= 0 and a[j] > key:\n",
    "            a[j + 1] = a[j]\n",
    "            j -= 1\n",
    "        a[j + 1] = key\n",
    "    return a"
   ]
  },
  {
   "cell_type": "code",
   "execution_count": null,
   "id": "00a6e56b",
   "metadata": {},
   "outputs": [],
   "source": [
    "def merge_sort(arr: List[int]) -> List[int]:\n",
    "    \"\"\"Sort a list using merge sort.\"\"\"\n",
    "    if len(arr) <= 1:\n",
    "        return arr.copy()\n",
    "\n",
    "    mid = len(arr) // 2\n",
    "    left = merge_sort(arr[:mid])\n",
    "    right = merge_sort(arr[mid:])\n",
    "\n",
    "    result = []\n",
    "    i = j = 0\n",
    "    while i < len(left) and j < len(right):\n",
    "        if left[i] <= right[j]:\n",
    "            result.append(left[i])\n",
    "            i += 1\n",
    "        else:\n",
    "            result.append(right[j])\n",
    "            j += 1\n",
    "    result.extend(left[i:])\n",
    "    result.extend(right[j:])\n",
    "    return result"
   ]
  },
  {
   "cell_type": "code",
   "execution_count": null,
   "id": "f75d627c",
   "metadata": {},
   "outputs": [],
   "source": [
    "def quick_sort(arr: List[int]) -> List[int]:\n",
    "    \"\"\"Sort a list using quick sort.\"\"\"\n",
    "    a = arr.copy()\n",
    "\n",
    "    def _quick_sort(lo: int, hi: int) -> None:\n",
    "        if lo < hi:\n",
    "            p = partition(lo, hi)\n",
    "            _quick_sort(lo, p - 1)\n",
    "            _quick_sort(p + 1, hi)\n",
    "\n",
    "    def partition(lo: int, hi: int) -> int:\n",
    "        pivot = a[hi]\n",
    "        i = lo\n",
    "        for j in range(lo, hi):\n",
    "            if a[j] <= pivot:\n",
    "                a[i], a[j] = a[j], a[i]\n",
    "                i += 1\n",
    "        a[i], a[hi] = a[hi], a[i]\n",
    "        return i\n",
    "\n",
    "    _quick_sort(0, len(a) - 1)\n",
    "    return a"
   ]
  },
  {
   "cell_type": "code",
   "execution_count": null,
   "id": "d5f883e4",
   "metadata": {},
   "outputs": [],
   "source": [
    "def heap_sort(arr: List[int]) -> List[int]:\n",
    "    \"\"\"Sort a list using heap sort.\"\"\"\n",
    "    a = arr.copy()\n",
    "    n = len(a)\n",
    "\n",
    "    def heapify(size: int, i: int) -> None:\n",
    "        largest = i\n",
    "        left = 2 * i + 1\n",
    "        right = 2 * i + 2\n",
    "\n",
    "        if left < size and a[left] > a[largest]:\n",
    "            largest = left\n",
    "        if right < size and a[right] > a[largest]:\n",
    "            largest = right\n",
    "        if largest != i:\n",
    "            a[i], a[largest] = a[largest], a[i]\n",
    "            heapify(size, largest)\n",
    "\n",
    "    for i in range(n // 2 - 1, -1, -1):\n",
    "        heapify(n, i)\n",
    "\n",
    "    for i in range(n - 1, 0, -1):\n",
    "        a[i], a[0] = a[0], a[i]\n",
    "        heapify(i, 0)\n",
    "\n",
    "    return a"
   ]
  },
  {
   "cell_type": "code",
   "execution_count": null,
   "id": "c5f2af03",
   "metadata": {},
   "outputs": [],
   "source": [
    "def steinhaus_johnson_trotter(n: int) -> Generator[List[int], None, None]:\n",
    "    \"\"\"Generate permutations using the Steinhaus-Johnson-Trotter algorithm.\"\"\"\n",
    "    perm = list(range(1, n + 1))\n",
    "    dirs = [-1] * n  # -1 for left, 1 for right\n",
    "    yield perm.copy()\n",
    "\n",
    "    while True:\n",
    "        # Find the largest mobile element\n",
    "        mobile_idx = -1\n",
    "        mobile = -1\n",
    "        for i in range(n):\n",
    "            if dirs[i] == -1 and i != 0 and perm[i] > perm[i - 1] and perm[i] > mobile:\n",
    "                mobile = perm[i]\n",
    "                mobile_idx = i\n",
    "            if dirs[i] == 1 and i != n - 1 and perm[i] > perm[i + 1] and perm[i] > mobile:\n",
    "                mobile = perm[i]\n",
    "                mobile_idx = i\n",
    "        if mobile_idx == -1:\n",
    "            return\n",
    "\n",
    "        swap_with = mobile_idx + dirs[mobile_idx]\n",
    "        perm[mobile_idx], perm[swap_with] = perm[swap_with], perm[mobile_idx]\n",
    "        dirs[mobile_idx], dirs[swap_with] = dirs[swap_with], dirs[mobile_idx]\n",
    "        mobile_idx = swap_with\n",
    "\n",
    "        for i in range(n):\n",
    "            if perm[i] > mobile:\n",
    "                dirs[i] *= -1\n",
    "        yield perm.copy()"
   ]
  },
  {
   "cell_type": "code",
   "execution_count": null,
   "id": "982f3adf",
   "metadata": {},
   "outputs": [],
   "source": [
    "def generate_permutation(n: int) -> List[int]:\n",
    "    perm = list(range(1, n + 1))\n",
    "    random.shuffle(perm)\n",
    "    return perm"
   ]
  },
  {
   "cell_type": "code",
   "execution_count": null,
   "id": "5bec8433",
   "metadata": {},
   "outputs": [],
   "source": [
    "def test_sorting_algorithm(alg: Callable[[List[int]], List[int]], n: int) -> None:\n",
    "    perm = generate_permutation(n)\n",
    "    start = time.perf_counter()\n",
    "    result = alg(perm)\n",
    "    elapsed = time.perf_counter() - start\n",
    "    print(f\"{alg.__name__} sorted permutation: {result}\")\n",
    "    print(f\"Time taken: {elapsed:.6f} seconds\\n\")"
   ]
  },
  {
   "cell_type": "code",
   "execution_count": null,
   "id": "8b344ea0",
   "metadata": {},
   "outputs": [],
   "source": [
    "if __name__ == \"__main__\":\n",
    "    N = 10\n",
    "    algorithms = [bubble_sort, insertion_sort, merge_sort, quick_sort, heap_sort]\n",
    "    for alg in algorithms:\n",
    "        test_sorting_algorithm(alg, N)\n",
    "\n",
    "    print(\"\\nFirst 5 permutations from Steinhaus-Johnson-Trotter:\")\n",
    "    sjt_gen = steinhaus_johnson_trotter(3)\n",
    "    for _ in range(5):\n",
    "        try:\n",
    "            print(next(sjt_gen))\n",
    "        except StopIteration:\n",
    "            break"
   ]
  },
  {
   "cell_type": "markdown",
   "id": "d4d864ab",
   "metadata": {},
   "source": [
    "## Corner Cases\n",
    "The following examples highlight situations where certain algorithms may misbehave or fail."
   ]
  },
  {
   "cell_type": "code",
   "execution_count": null,
   "id": "55751960",
   "metadata": {},
   "outputs": [],
   "source": [
    "# Quick sort on an already sorted list can hit Python's recursion limit\n",
    "try:\n",
    "    quick_sort(list(range(1500)))\n",
    "except RecursionError as err:\n",
    "    print('quick_sort failed with RecursionError:', err)\n",
    "\n",
    "# Steinhaus-Johnson-Trotter with n=0 yields a single empty permutation\n",
    "print(list(steinhaus_johnson_trotter(0)))\n",
    "\n",
    "# Sorting an empty list\n",
    "print('bubble_sort on [] ->', bubble_sort([]))"
   ]
  },
  {
   "cell_type": "markdown",
   "id": "536e8d44",
   "metadata": {},
   "source": [
    "The functions above return sorted permutations. The helper function `test_sorting_algorithm` demonstrates basic usage and prints timing results."
   ]
  }
 ],
 "metadata": {
  "jupytext": {
   "cell_metadata_filter": "-all",
   "main_language": "python",
   "notebook_metadata_filter": "-all"
  }
 },
 "nbformat": 4,
 "nbformat_minor": 5
}
